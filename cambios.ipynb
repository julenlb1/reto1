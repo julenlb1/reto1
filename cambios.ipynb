{
 "cells": [
  {
   "cell_type": "markdown",
   "metadata": {},
   "source": [
    "Aquí voy a mostrar los cambios que he realizado para la insercción de datos respecto a la plantilla de la píldora:\n",
    "\n",
    "A tener en cuenta: ninguno de los siguientes códigos funcionará si los ejecutamos aquí, ya que son TROZOS de código y no códigos completos, por eso hay métodos y variables que no las detecta"
   ]
  },
  {
   "cell_type": "markdown",
   "metadata": {},
   "source": [
    "Códigos del archivo 'vistas.py'"
   ]
  },
  {
   "cell_type": "markdown",
   "metadata": {},
   "source": [
    "Código de la píldora (únicamente las partes que luego he modificado)"
   ]
  },
  {
   "cell_type": "code",
   "execution_count": null,
   "metadata": {},
   "outputs": [],
   "source": [
    "# Método spanish_handle_index:\n",
    "\n",
    "def spanish_handle_index(environ, start_response, productos):\n",
    "    pass\n",
    "\n",
    "# hay más código aquí pero lo importante está en esa línea de código \n",
    "# (pongo el pass para que no de un error)"
   ]
  },
  {
   "cell_type": "markdown",
   "metadata": {},
   "source": [
    "Otros pequeños bloques de códgio que cambio a tener en cuenta pero sin importancia:"
   ]
  },
  {
   "cell_type": "code",
   "execution_count": null,
   "metadata": {},
   "outputs": [],
   "source": [
    "template = env.get_template('index.html')\n",
    "\n",
    "\n",
    "\n",
    "css_path = static_dir + '\\\\style.css'\n",
    "\n",
    "\n",
    "# rutas a esos archivos"
   ]
  },
  {
   "cell_type": "markdown",
   "metadata": {},
   "source": [
    "Códigos con la modificación (únicamente las partes modificadas):"
   ]
  },
  {
   "cell_type": "code",
   "execution_count": null,
   "metadata": {},
   "outputs": [],
   "source": [
    "def spanish_handle_index(environ, start_response, productos=None): \n",
    "    pass\n",
    "    \n",
    "    # pongo el none para que no sea un parámetro por defecto ,esto es, que no sea obligatorio; es por esto que daba un error, ya que estabamos invocando a este método en controlador.py sin ese parámetro\n",
    "    # (pongo el pass para que no de un error)"
   ]
  },
  {
   "cell_type": "markdown",
   "metadata": {},
   "source": [
    "Otros pequeños bloques de códgio que cambio a tener en cuenta pero sin importancia:"
   ]
  },
  {
   "cell_type": "code",
   "execution_count": null,
   "metadata": {},
   "outputs": [],
   "source": [
    "template = env.get_template('registro_sesion.html')\n",
    "\n",
    "\n",
    "css_path = static_dir + '\\\\styles.css'\n",
    "\n",
    "# modifico las rutas a mis archivos"
   ]
  },
  {
   "cell_type": "markdown",
   "metadata": {},
   "source": [
    "Códigos del archivo 'controlador.py'"
   ]
  },
  {
   "cell_type": "markdown",
   "metadata": {},
   "source": [
    "Código de la píldora (únicamente las partes que luego he modificado)"
   ]
  },
  {
   "cell_type": "code",
   "execution_count": null,
   "metadata": {},
   "outputs": [],
   "source": [
    "# A tener en cuenta que todas los campos y las clases de la base de datos son diferentes a las de nuestro grupo:\n",
    "\n",
    "\n",
    " sesion = modelos.abrir_sesion()\n",
    "          producto.create(sesion)\n",
    "          modelos.cerrar_sesion(sesion)\n",
    "          sesion = None\n",
    "\n",
    "# vemos que aquí utiliza un método para trabajar la insercción de los registros (create())"
   ]
  },
  {
   "cell_type": "code",
   "execution_count": null,
   "metadata": {},
   "outputs": [],
   "source": [
    "elif path == '/es':\n",
    "        productos = leerProductos()\n",
    "        return vistas.spanish_handle_index(environ, start_response, productos)\n",
    "\n",
    "\n",
    "# cúando se le llama a esta ruta del path, está ejecutando la función leerProductos()    (recordatorio que yo NO LA TENGO)\n",
    "# esta función CREO que realiza la consulta (en el caso del código de la píldora con un {id : 1})    y es esto lo que hace que 'productos' tenga un valor y por eso se pase como parámetro en el path /es\n",
    "\n",
    "\n",
    "# la función de leeProductos() es la siguiente:\n",
    "\n",
    "def leerProductos():\n",
    "    sesion = modelos.abrir_sesion()\n",
    "    consulta = {\"id\": 1}\n",
    "    productos = modelos.Producto.read(sesion, **consulta)\n",
    "    # print(productos)\n",
    "    modelos.cerrar_sesion(sesion)\n",
    "    sesion = None\n",
    "    return productos"
   ]
  },
  {
   "cell_type": "markdown",
   "metadata": {},
   "source": [
    "Otros pequeños bloques de códgio que cambio a tener en cuenta pero sin importancia:\n"
   ]
  },
  {
   "cell_type": "code",
   "execution_count": null,
   "metadata": {},
   "outputs": [],
   "source": [
    "port = 8000"
   ]
  },
  {
   "cell_type": "markdown",
   "metadata": {},
   "source": [
    "Códigos con la modificación (únicamente las partes modificadas):"
   ]
  },
  {
   "cell_type": "code",
   "execution_count": null,
   "metadata": {},
   "outputs": [],
   "source": [
    "sesion = modelos.abrir_sesion()\n",
    "         sesion.add(producto)\n",
    "         sesion.commit()\n",
    "         modelos.cerrar_sesion(sesion)\n",
    "         sesion = None\n",
    "\n",
    "# en este caso, uso los métodos add() y commit() como en sqlalchemy             (tengo estos métodos ya que estoy importando la clase modelos.py que a su vez importa sqlalchemy)"
   ]
  },
  {
   "cell_type": "code",
   "execution_count": null,
   "metadata": {},
   "outputs": [],
   "source": [
    "# a tener en cuenta que yo he quitado el método leerProductos() ya que no me interesaba en este caso:\n",
    "\n",
    "elif path == '/es':\n",
    "        return vistas.spanish_handle_index(environ, start_response) # aquí no pongo los productos ya que no es un campo obligatorio, como he mencionado en mi archivo vistas.py"
   ]
  },
  {
   "cell_type": "markdown",
   "metadata": {},
   "source": [
    "Añadido que sin él me marcaba este error:\n",
    "\n",
    "\n",
    "AssertionError: write() argument must be a bytes instance\n",
    "127.0.0.1 - - [29/Oct/2024 22:15:19] \"GET /favicon.ico HTTP/1.1\" 500 59\n",
    "\n",
    "\n"
   ]
  },
  {
   "cell_type": "code",
   "execution_count": null,
   "metadata": {},
   "outputs": [],
   "source": [
    "elif path == '/favicon.ico':\n",
    "        start_response('404 Not Found', [('Content-type', 'text/plain')])\n",
    "        return [b'Favicon no encontrado.'] \n",
    "\n",
    "\n",
    "\n",
    "# esta parte no está en el código de ejemplo; lo que he hecho aquí es hacer una ruta /favicon.ico que me daba error sin existir y creándola he hecho une error 404"
   ]
  },
  {
   "cell_type": "markdown",
   "metadata": {},
   "source": [
    "Otros pequeños bloques de códgio que cambio a tener en cuenta pero sin importancia:\n"
   ]
  },
  {
   "cell_type": "code",
   "execution_count": null,
   "metadata": {},
   "outputs": [],
   "source": [
    "port = 8001"
   ]
  }
 ],
 "metadata": {
  "language_info": {
   "name": "python"
  }
 },
 "nbformat": 4,
 "nbformat_minor": 2
}
